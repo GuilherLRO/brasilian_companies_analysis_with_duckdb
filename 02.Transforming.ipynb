{
 "cells": [
  {
   "cell_type": "code",
   "execution_count": 1,
   "metadata": {},
   "outputs": [],
   "source": []
  },
  {
   "cell_type": "code",
   "execution_count": 2,
   "metadata": {},
   "outputs": [],
   "source": []
  },
  {
   "cell_type": "code",
   "execution_count": 10,
   "metadata": {},
   "outputs": [
    {
     "data": {
      "text/plain": [
       "<duckdb.duckdb.DuckDBPyConnection at 0x107fba3b0>"
      ]
     },
     "execution_count": 10,
     "metadata": {},
     "output_type": "execute_result"
    }
   ],
   "source": [
    "import duckdb\n",
    "conn = duckdb.connect('cnpj.db')\n",
    "\n",
    "conn.execute(\"DROP VIEW IF EXISTS empresas\")\n",
    "conn.execute(\"DROP VIEW IF EXISTS cnae\")\n",
    "conn.execute(\"DROP VIEW IF EXISTS estabelecimentos\")\n",
    "conn.execute(\"DROP VIEW IF EXISTS socios\")\n",
    "conn.execute(\"DROP VIEW IF EXISTS simple\")\n",
    "conn.execute(\"DROP VIEW IF EXISTS natureza\")\n",
    "\n",
    "#CREATE VIEWS\n",
    "conn.execute(\"CREATE VIEW empresas AS SELECT * FROM empresas_raw WHERE not(legal_nature = '0000' AND responsible_qualification = '00' AND company_size = '')\" )\n",
    "conn.execute(\"CREATE VIEW cnae AS SELECT * FROM cnae_raw \")\n",
    "conn.execute(\"CREATE VIEW estabelecimentos AS SELECT * FROM estabelecimentos_raw WHERE NOT (cnpj_base in ('08504420'))\")\n",
    "conn.execute(\"CREATE VIEW socios AS SELECT * FROM socios_raw\")\n",
    "conn.execute(\"CREATE VIEW simple AS SELECT * FROM simple_raw WHERE NOT (cnpj_base in ('08504420'))\")\n",
    "conn.execute(\"CREATE VIEW natureza AS SELECT * FROM natureza_raw\")"
   ]
  },
  {
   "cell_type": "code",
   "execution_count": 11,
   "metadata": {},
   "outputs": [],
   "source": [
    "conn.close()"
   ]
  }
 ],
 "metadata": {
  "kernelspec": {
   "display_name": "Python 3",
   "language": "python",
   "name": "python3"
  },
  "language_info": {
   "codemirror_mode": {
    "name": "ipython",
    "version": 3
   },
   "file_extension": ".py",
   "mimetype": "text/x-python",
   "name": "python",
   "nbconvert_exporter": "python",
   "pygments_lexer": "ipython3",
   "version": "3.12.2"
  }
 },
 "nbformat": 4,
 "nbformat_minor": 2
}
