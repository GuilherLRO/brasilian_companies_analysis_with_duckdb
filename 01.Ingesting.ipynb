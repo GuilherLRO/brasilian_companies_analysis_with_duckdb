{
 "cells": [
  {
   "cell_type": "code",
   "execution_count": 7,
   "metadata": {},
   "outputs": [],
   "source": [
    "import os\n",
    "import zipfile\n",
    "import duckdb\n",
    "import polars as pl\n",
    "from time import time\n",
    "\n",
    "conn = duckdb.connect('cnpj.db')"
   ]
  },
  {
   "cell_type": "markdown",
   "metadata": {},
   "source": [
    "# Extracting Files"
   ]
  },
  {
   "cell_type": "code",
   "execution_count": 8,
   "metadata": {},
   "outputs": [
    {
     "name": "stdout",
     "output_type": "stream",
     "text": [
      "unzipped folder deleted\n",
      "['Natureza', 'Empresas', 'Simple', 'Estabelecimentos', 'Socios', 'Cnae']\n"
     ]
    }
   ],
   "source": [
    "# unzip all .zip files in the current directory and save them with the same name in the unzipped folder in a new directory called unzipped\n",
    "# Source: https://dados.gov.br/dados/conjuntos-dados/cadastro-nacional-da-pessoa-juridica---cnpj\n",
    "folders = ()\n",
    "\n",
    "# if there is a folder called unzipped, delete it\n",
    "if os.path.exists('unzipped'):\n",
    "    os.system('rm -r unzipped')\n",
    "    print(\"unzipped folder deleted\")\n",
    "\n",
    "#for file in 'zipped'folder\n",
    "\n",
    "for file in os.listdir(os.getcwd() + '/zipped'):\n",
    "    if file.endswith('.zip'):\n",
    "        new_file_name = file.replace('.zip', '')\n",
    "        folder_name = new_file_name[0:-1]\n",
    "        folders += (folder_name,)\n",
    "        with zipfile.ZipFile(f'zipped/{file}', 'r') as zip_ref:\n",
    "            zip_ref.extractall(f'unzipped/{folder_name}')\n",
    "\n",
    "folders = list(set(folders))\n",
    "print(folders)"
   ]
  },
  {
   "cell_type": "code",
   "execution_count": 9,
   "metadata": {},
   "outputs": [
    {
     "name": "stdout",
     "output_type": "stream",
     "text": [
      "unzipped files renamed\n"
     ]
    }
   ],
   "source": [
    "for folder in folders:\n",
    "    counter = 0\n",
    "    file_list = os.listdir(f'unzipped/{folder}')\n",
    "    for file in file_list:\n",
    "        os.rename(f'unzipped/{folder}/{file}', f'unzipped/{folder}/{counter}.csv')\n",
    "        counter = counter + 1\n",
    "print('unzipped files renamed')"
   ]
  },
  {
   "cell_type": "markdown",
   "metadata": {},
   "source": [
    "# Converting Filtes to parquet format"
   ]
  },
  {
   "cell_type": "code",
   "execution_count": 10,
   "metadata": {},
   "outputs": [],
   "source": [
    "current_dir = os.getcwd()\n",
    "source = 'unzipped'\n",
    "source_path = os.path.join(current_dir, source)\n",
    "folders_data = os.listdir(source_path)"
   ]
  },
  {
   "cell_type": "code",
   "execution_count": 11,
   "metadata": {},
   "outputs": [],
   "source": [
    "empresas_pl_schema = { 'cnpj_base': pl.Utf8, 'social_name': pl.Utf8, 'legal_nature': pl.Utf8, 'responsible_qualification': pl.Utf8, 'capital': pl.Utf8, 'company_size': pl.Utf8, 'federal_entity_responsible': pl.Utf8 }\n",
    "cnae_pl_schema = { 'code': pl.Utf8, 'description': pl.Utf8 }\n",
    "estabelecimentos_pl_schema = { 'cnpj_base': pl.Utf8, 'cnpj_order': pl.Utf8, 'cnpj_dv': pl.Utf8, 'identifier': pl.Utf8, 'fantasy_name': pl.Utf8, 'registration_status': pl.Utf8, 'registration_date': pl.Utf8, 'registration_reason': pl.Utf8, 'city_name': pl.Utf8, 'country_code': pl.Utf8, 'activity_start_date': pl.Utf8, 'main_activity': pl.Utf8, 'secondary_activity': pl.Utf8, 'street_type': pl.Utf8, 'street_name': pl.Utf8, 'number': pl.Utf8, 'complement': pl.Utf8, 'neighborhood': pl.Utf8, 'zip_code': pl.Utf8, 'state': pl.Utf8, 'city_code': pl.Utf8, 'ddd1': pl.Utf8, 'phone1': pl.Utf8, 'ddd2': pl.Utf8, 'phone2': pl.Utf8, 'fax_ddd': pl.Utf8, 'fax': pl.Utf8, 'email': pl.Utf8, 'special_status': pl.Utf8, 'special_status_date': pl.Utf8 }\n",
    "socios_pl_schema = { 'cnpj_base': pl.Utf8, 'socio_identifier': pl.Utf8, 'socio_name': pl.Utf8, 'socio_cnpj_cpf': pl.Utf8, 'socio_qualification': pl.Utf8, 'entry_date': pl.Utf8, 'country_code': pl.Utf8, 'legal_representative_cpf': pl.Utf8, 'legal_representative_name': pl.Utf8, 'legal_representative_qualification': pl.Utf8, 'age_range': pl.Utf8 }\n",
    "simple_pl_schema = { 'cnpj_base': pl.Utf8, 'simples_option' : pl.Utf8, 'simples_option_date' : pl.Utf8, 'simples_exclusion_date' : pl.Utf8, 'mei_option' : pl.Utf8, 'mei_option_date' : pl.Utf8, 'mei_exclusion_date' : pl.Utf8}\n",
    "natureza_pl_schema = { 'code' : pl.Utf8, 'description' : pl.Utf8}"
   ]
  },
  {
   "cell_type": "code",
   "execution_count": 12,
   "metadata": {},
   "outputs": [
    {
     "name": "stdout",
     "output_type": "stream",
     "text": [
      "Cnae\n",
      "Time to read 0.csv: 0.03\n",
      "Time to write 0.csv: 0.0\n",
      "Natureza\n",
      "Time to read 0.csv: 0.0\n",
      "Time to write 0.csv: 0.0\n",
      "Socios\n",
      "Time to read 6.csv: 0.2\n",
      "Time to write 6.csv: 0.61\n",
      "Time to read 7.csv: 0.33\n",
      "Time to write 7.csv: 0.67\n",
      "Time to read 5.csv: 0.27\n",
      "Time to write 5.csv: 0.64\n",
      "Time to read 4.csv: 0.24\n",
      "Time to write 4.csv: 0.6\n",
      "Time to read 0.csv: 0.22\n",
      "Time to write 0.csv: 0.6\n",
      "Time to read 1.csv: 0.2\n",
      "Time to write 1.csv: 0.59\n",
      "Time to read 3.csv: 0.18\n",
      "Time to write 3.csv: 0.59\n",
      "Time to read 2.csv: 0.21\n",
      "Time to write 2.csv: 0.63\n",
      "Time to read 9.csv: 0.66\n",
      "Time to write 9.csv: 1.68\n",
      "Time to read 8.csv: 0.17\n",
      "Time to write 8.csv: 0.59\n",
      "Simple\n",
      "Time to read 0.csv: 2.71\n",
      "Time to write 0.csv: 3.2\n",
      "Empresas\n",
      "Time to read 6.csv: 0.45\n",
      "Time to write 6.csv: 1.13\n",
      "Time to read 7.csv: 0.32\n",
      "Time to write 7.csv: 1.15\n",
      "Time to read 5.csv: 0.34\n",
      "Time to write 5.csv: 1.19\n",
      "Time to read 4.csv: 0.35\n",
      "Time to write 4.csv: 1.17\n",
      "Time to read 0.csv: 0.35\n",
      "Time to write 0.csv: 1.21\n",
      "Time to read 1.csv: 0.34\n",
      "Time to write 1.csv: 1.21\n",
      "Time to read 3.csv: 0.31\n",
      "Time to write 3.csv: 1.06\n",
      "Time to read 2.csv: 1.26\n",
      "Time to write 2.csv: 4.18\n",
      "Time to read 9.csv: 0.39\n",
      "Time to write 9.csv: 1.08\n",
      "Time to read 8.csv: 0.34\n",
      "Time to write 8.csv: 1.2\n",
      "Estabelecimentos\n",
      "Time to read 6.csv: 1.35\n",
      "Time to write 6.csv: 2.69\n",
      "Time to read 7.csv: 8.63\n",
      "Time to write 7.csv: 10.37\n",
      "Time to read 5.csv: 2.64\n",
      "Time to write 5.csv: 2.74\n",
      "Time to read 4.csv: 1.39\n",
      "Time to write 4.csv: 2.64\n",
      "Time to read 0.csv: 2.07\n",
      "Time to write 0.csv: 2.79\n",
      "Time to read 1.csv: 1.98\n",
      "Time to write 1.csv: 2.99\n",
      "Time to read 3.csv: 1.87\n",
      "Time to write 3.csv: 2.6\n",
      "Time to read 2.csv: 1.55\n",
      "Time to write 2.csv: 2.88\n",
      "Time to read 9.csv: 2.11\n",
      "Time to write 9.csv: 2.69\n",
      "Time to read 8.csv: 1.75\n",
      "Time to write 8.csv: 2.7\n"
     ]
    }
   ],
   "source": [
    "for folder in folders_data:\n",
    "    if folder == 'Empresas':\n",
    "        schema = empresas_pl_schema\n",
    "    elif folder == 'Cnae':\n",
    "        schema = cnae_pl_schema\n",
    "    elif folder == 'Estabelecimentos':\n",
    "        schema = estabelecimentos_pl_schema\n",
    "    elif folder == 'Socios':\n",
    "        schema = socios_pl_schema\n",
    "    elif folder == 'Simple':\n",
    "        schema = simple_pl_schema\n",
    "    elif folder == 'Natureza':\n",
    "        schema = natureza_pl_schema\n",
    "    print(folder)\n",
    "    \n",
    "    df_list = []\n",
    "    data_files = os.listdir(os.path.join(source_path, folder))\n",
    "    for file in data_files:\n",
    "        time_0 = time()\n",
    "        file_path = os.path.join(source_path, folder, file)\n",
    "        df = pl.read_csv(file_path, encoding='latin1', separator=';',ignore_errors=True,schema= schema)\n",
    "        time_1 = time()\n",
    "        print(f'Time to read {file}: {round(time_1 - time_0,2)}')\n",
    "        #exporting to parquet\n",
    "        df.write_parquet(f'{source_path}/{folder}/{file}.parquet')\n",
    "        time_2 = time()\n",
    "        print(f'Time to write {file}: {round(time_2 - time_1,2)}')"
   ]
  },
  {
   "cell_type": "markdown",
   "metadata": {},
   "source": [
    "# Creating and populating tables"
   ]
  },
  {
   "cell_type": "code",
   "execution_count": 13,
   "metadata": {},
   "outputs": [],
   "source": [
    "empresas_columns = [ x for x in empresas_pl_schema.keys() ]\n",
    "cnae_columns = [ x for x in cnae_pl_schema.keys() ]\n",
    "estabelecimentos_columns = [ x for x in estabelecimentos_pl_schema.keys() ]\n",
    "socios_columns = [ x for x in socios_pl_schema.keys() ]\n",
    "simple_columns = [ x for x in simple_pl_schema.keys() ]\n",
    "natureza_columns = [ x for x in natureza_pl_schema.keys() ]"
   ]
  },
  {
   "cell_type": "code",
   "execution_count": 14,
   "metadata": {},
   "outputs": [
    {
     "data": {
      "text/plain": [
       "<duckdb.duckdb.DuckDBPyConnection at 0x1109deb30>"
      ]
     },
     "execution_count": 14,
     "metadata": {},
     "output_type": "execute_result"
    }
   ],
   "source": [
    "# drop tables if they exist\n",
    "conn.execute('DROP TABLE IF EXISTS empresas_raw')\n",
    "conn.execute('DROP TABLE IF EXISTS cnae_raw')\n",
    "conn.execute('DROP TABLE IF EXISTS estabelecimentos_raw')\n",
    "conn.execute('DROP TABLE IF EXISTS socios_raw')\n",
    "conn.execute('DROP TABLE IF EXISTS simple_raw')\n",
    "conn.execute('DROP TABLE IF EXISTS natureza_raw')\n",
    "\n",
    "# create tables\n",
    "conn.execute(f'CREATE TABLE IF NOT EXISTS cnae_raw ({\", \".join([f\"{column} STRING\" for column in cnae_columns])})')\n",
    "conn.execute(f'CREATE TABLE IF NOT EXISTS empresas_raw ({\", \".join([f\"{column} STRING\" for column in empresas_columns])})')\n",
    "conn.execute(f'CREATE TABLE IF NOT EXISTS estabelecimentos_raw ({\", \".join([f\"{column} STRING\" for column in estabelecimentos_columns])})')\n",
    "conn.execute(f'CREATE TABLE IF NOT EXISTS socios_raw ({\", \".join([f\"{column} STRING\" for column in socios_columns])})')\n",
    "conn.execute(f'CREATE TABLE IF NOT EXISTS simple_raw ({\", \".join([f\"{column} STRING\" for column in simple_columns])})')\n",
    "conn.execute(f'CREATE TABLE IF NOT EXISTS natureza_raw ({\", \".join([f\"{column} STRING\" for column in natureza_columns])})')"
   ]
  },
  {
   "cell_type": "code",
   "execution_count": 15,
   "metadata": {},
   "outputs": [
    {
     "name": "stdout",
     "output_type": "stream",
     "text": [
      "Time to insert Cnae: 0.01 seconds\n",
      "Time to count Cnae: 0.0 seconds - 1358 rows x 2 columns\n",
      "Time to insert Natureza: 0.0 seconds\n",
      "Time to count Natureza: 0.0 seconds - 89 rows x 2 columns\n",
      "Time to insert Socios: 7.86 seconds\n",
      "Time to count Socios: 0.0 seconds - 23765603 rows x 11 columns\n",
      "Time to insert Simple: 5.01 seconds\n",
      "Time to count Simple: 0.0 seconds - 38371644 rows x 7 columns\n",
      "Time to insert Empresas: 10.78 seconds\n",
      "Time to count Empresas: 0.01 seconds - 56554309 rows x 7 columns\n",
      "Time to insert Estabelecimentos: 49.96 seconds\n",
      "Time to count Estabelecimentos: 0.04 seconds - 59495409 rows x 30 columns\n"
     ]
    }
   ],
   "source": [
    "for folder in folders_data:\n",
    "    if folder == 'Empresas':\n",
    "        columns = empresas_columns\n",
    "    elif folder == 'Cnae':\n",
    "        columns = cnae_columns\n",
    "    elif folder == 'Estabelecimentos':\n",
    "        columns = estabelecimentos_columns\n",
    "    elif folder == 'Socios':\n",
    "        columns = socios_columns\n",
    "    elif folder == 'Simple':\n",
    "        columns = simple_columns\n",
    "    elif folder == 'Natureza':\n",
    "        columns = natureza_columns\n",
    "    time_0 = time()\n",
    "    conn.execute(f\"INSERT INTO {folder}_raw SELECT * FROM read_parquet('./unzipped/{folder}/*.parquet')\")\n",
    "    time_1 = time()\n",
    "    print(f'Time to insert {folder}: {round(time_1 - time_0,2)} seconds')\n",
    "    row_count = conn.execute(f\"SELECT COUNT(*) FROM {folder}_raw\").fetchall()\n",
    "    time_2 = time()\n",
    "    print(f'Time to count {folder}: {round(time_2 - time_1,2)} seconds - {row_count[0][0]} rows x {len(columns)} columns')"
   ]
  },
  {
   "cell_type": "code",
   "execution_count": 16,
   "metadata": {},
   "outputs": [],
   "source": [
    "conn.close()"
   ]
  },
  {
   "cell_type": "markdown",
   "metadata": {},
   "source": [
    "Time to insert Cnae: 0.01 seconds\n",
    "Time to count Cnae: 0.0 seconds - 1358 rows x 2 columns\n",
    "Time to insert Natureza: 0.0 seconds\n",
    "Time to count Natureza: 0.0 seconds - 89 rows x 2 columns\n",
    "Time to insert Socios: 7.86 seconds\n",
    "Time to count Socios: 0.0 seconds - 23765603 rows x 11 columns\n",
    "Time to insert Simple: 5.01 seconds\n",
    "Time to count Simple: 0.0 seconds - 38371644 rows x 7 columns\n",
    "Time to insert Empresas: 10.78 seconds\n",
    "Time to count Empresas: 0.01 seconds - 56554309 rows x 7 columns\n",
    "Time to insert Estabelecimentos: 49.96 seconds\n",
    "Time to count Estabelecimentos: 0.04 seconds - 59495409 rows x 30 columns"
   ]
  }
 ],
 "metadata": {
  "kernelspec": {
   "display_name": "Python 3",
   "language": "python",
   "name": "python3"
  },
  "language_info": {
   "codemirror_mode": {
    "name": "ipython",
    "version": 3
   },
   "file_extension": ".py",
   "mimetype": "text/x-python",
   "name": "python",
   "nbconvert_exporter": "python",
   "pygments_lexer": "ipython3",
   "version": "3.12.2"
  }
 },
 "nbformat": 4,
 "nbformat_minor": 2
}
