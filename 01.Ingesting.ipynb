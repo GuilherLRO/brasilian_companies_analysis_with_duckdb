{
 "cells": [
  {
   "cell_type": "code",
   "execution_count": 1,
   "metadata": {},
   "outputs": [],
   "source": [
    "import os\n",
    "import zipfile\n",
    "import duckdb\n",
    "import pandas as pd\n",
    "from time import time\n",
    "\n",
    "conn = duckdb.connect('cnpj.db')"
   ]
  },
  {
   "cell_type": "markdown",
   "metadata": {},
   "source": [
    "# Extracting Files"
   ]
  },
  {
   "cell_type": "code",
   "execution_count": 5,
   "metadata": {},
   "outputs": [
    {
     "name": "stdout",
     "output_type": "stream",
     "text": [
      "unzipped folder deleted\n",
      "['Cnae', 'Socios', 'Empresas', 'Estabelecimentos']\n"
     ]
    }
   ],
   "source": [
    "# unzip all .zip files in the current directory and save them with the same name in the unzipped folder in a new directory called unzipped\n",
    "# Source: https://dados.gov.br/dados/conjuntos-dados/cadastro-nacional-da-pessoa-juridica---cnpj\n",
    "folders = ()\n",
    "\n",
    "# if there is a folder called unzipped, delete it\n",
    "if os.path.exists('unzipped'):\n",
    "    os.system('rm -r unzipped')\n",
    "    print('unzipped folder deleted')\n",
    "\n",
    "#for file in 'zipped'folder\n",
    "\n",
    "for file in os.listdir(os.getcwd() + '/zipped'):\n",
    "    if file.endswith('.zip'):\n",
    "        new_file_name = file.replace('.zip', '')\n",
    "        folder_name = new_file_name[0:-1]\n",
    "        folders += (folder_name,)\n",
    "        with zipfile.ZipFile(f'zipped/{file}', 'r') as zip_ref:\n",
    "            zip_ref.extractall(f'unzipped/{folder_name}')\n",
    "\n",
    "folders = list(set(folders))\n",
    "print(folders)"
   ]
  },
  {
   "cell_type": "code",
   "execution_count": 6,
   "metadata": {},
   "outputs": [
    {
     "name": "stdout",
     "output_type": "stream",
     "text": [
      "unzipped files renamed\n"
     ]
    }
   ],
   "source": [
    "for folder in folders:\n",
    "    counter = 0\n",
    "    file_list = os.listdir(f'unzipped/{folder}')\n",
    "    for file in file_list:\n",
    "        os.rename(f'unzipped/{folder}/{file}', f'unzipped/{folder}/{counter}.csv')\n",
    "        counter = counter + 1\n",
    "print('unzipped files renamed')"
   ]
  },
  {
   "cell_type": "markdown",
   "metadata": {},
   "source": [
    "# Creating and populating tables"
   ]
  },
  {
   "cell_type": "code",
   "execution_count": 8,
   "metadata": {},
   "outputs": [],
   "source": [
    "empresas_columns = ['cnpj_base', 'social_name', 'legal_nature', 'responsible_qualification', 'capital', 'company_size', 'federal_entity_responsible']\n",
    "cnaes_columns = ['code', 'description']\n",
    "estabelecimentos_columns = ['cnpj_base', 'cnpj_order', 'cnpj_dv', 'identifier', 'fantasy_name', 'registration_status', 'registration_date', 'registration_reason', 'city_name', 'country_code', 'activity_start_date', 'main_activity', 'secondary_activity', 'street_type', 'street_name', 'number', 'complement', 'neighborhood', 'zip_code', 'state', 'city_code', 'ddd1', 'phone1', 'ddd2', 'phone2', 'fax_ddd', 'fax', 'email', 'special_status', 'special_status_date']\n",
    "socios_columns = ['cnpj_base', 'socio_identifier', 'socio_name', 'socio_cnpj_cpf', 'socio_qualification', 'entry_date', 'country_code', 'legal_representative_cpf', 'legal_representative_name', 'legal_representative_qualification', 'age_range']"
   ]
  },
  {
   "cell_type": "code",
   "execution_count": 9,
   "metadata": {},
   "outputs": [
    {
     "data": {
      "text/plain": [
       "<duckdb.duckdb.DuckDBPyConnection at 0x11cc97cf0>"
      ]
     },
     "execution_count": 9,
     "metadata": {},
     "output_type": "execute_result"
    }
   ],
   "source": [
    "# drop tables if they exist\n",
    "conn.execute('DROP TABLE IF EXISTS empresas')\n",
    "conn.execute('DROP TABLE IF EXISTS cnae')\n",
    "conn.execute('DROP TABLE IF EXISTS estabelecimentos')\n",
    "conn.execute('DROP TABLE IF EXISTS socios')\n",
    "# create tables\n",
    "conn.execute(f'CREATE TABLE IF NOT EXISTS cnae ({\", \".join([f\"{column} STRING\" for column in cnaes_columns])})')\n",
    "conn.execute(f'CREATE TABLE IF NOT EXISTS empresas ({\", \".join([f\"{column} STRING\" for column in empresas_columns])})')\n",
    "conn.execute(f'CREATE TABLE IF NOT EXISTS estabelecimentos ({\", \".join([f\"{column} STRING\" for column in estabelecimentos_columns])})')\n",
    "conn.execute(f'CREATE TABLE IF NOT EXISTS socios ({\", \".join([f\"{column} STRING\" for column in socios_columns])})')"
   ]
  },
  {
   "cell_type": "code",
   "execution_count": 3,
   "metadata": {},
   "outputs": [],
   "source": [
    "def add_csv_to_table(folder):\n",
    "    print(folder)\n",
    "    counter = 0\n",
    "    for file in os.listdir(f'unzipped/{folder}'):\n",
    "        if file.endswith('.csv'):\n",
    "            df = pd.read_csv(f'unzipped/{folder}/{file}', sep=';', encoding='latin1', dtype=str)\n",
    "            df = df.fillna('null')\n",
    "            conn.register(f'{folder}_{counter}', df)\n",
    "            counter += 1\n",
    "    \n",
    "    for i in range(counter):\n",
    "        conn.execute(f'INSERT INTO {folder} SELECT * FROM {folder}_{i}')\n",
    "        conn.execute(f'DROP VIEW {folder}_{i}')"
   ]
  },
  {
   "cell_type": "code",
   "execution_count": 13,
   "metadata": {},
   "outputs": [
    {
     "name": "stdout",
     "output_type": "stream",
     "text": [
      "Cnae\n",
      "5432 rows added to Cnae table\n",
      "Socios\n",
      "23765603 rows added to Socios table\n",
      "Empresas\n",
      "56554309 rows added to Empresas table\n",
      "Estabelecimentos\n",
      "59495409 rows added to Estabelecimentos table\n"
     ]
    }
   ],
   "source": [
    "for folder in folders:\n",
    "        add_csv_to_table(folder)\n",
    "        print(f\"{conn.execute(f'SELECT COUNT(*) FROM {folder}').fetchone()[0]} rows added to {folder} table\")"
   ]
  }
 ],
 "metadata": {
  "kernelspec": {
   "display_name": "Python 3",
   "language": "python",
   "name": "python3"
  },
  "language_info": {
   "codemirror_mode": {
    "name": "ipython",
    "version": 3
   },
   "file_extension": ".py",
   "mimetype": "text/x-python",
   "name": "python",
   "nbconvert_exporter": "python",
   "pygments_lexer": "ipython3",
   "version": "3.12.2"
  }
 },
 "nbformat": 4,
 "nbformat_minor": 2
}
